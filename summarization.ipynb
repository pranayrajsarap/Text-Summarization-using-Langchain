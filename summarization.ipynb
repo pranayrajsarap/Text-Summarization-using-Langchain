{
 "cells": [
  {
   "cell_type": "markdown",
   "metadata": {},
   "source": [
    "## Basic Prompt Summarization"
   ]
  },
  {
   "cell_type": "code",
   "execution_count": 1,
   "metadata": {},
   "outputs": [],
   "source": [
    "import os\n",
    "open_api_key = \"sk-proj-\"\n",
    "os.environ[\"OPENAI_API_KEY\"] = open_api_key"
   ]
  },
  {
   "cell_type": "code",
   "execution_count": 2,
   "metadata": {},
   "outputs": [
    {
     "name": "stdout",
     "output_type": "stream",
     "text": [
      "Note: you may need to restart the kernel to use updated packages.\n"
     ]
    }
   ],
   "source": [
    "pip install -qU langchain-openai"
   ]
  },
  {
   "cell_type": "code",
   "execution_count": 3,
   "metadata": {},
   "outputs": [],
   "source": [
    "#from langchain_community.chat_models import ChatOpenAI\n",
    "from langchain_openai import ChatOpenAI\n",
    "from langchain_core.messages import (\n",
    "    AIMessage,\n",
    "    HumanMessage,\n",
    "    SystemMessage\n",
    ")"
   ]
  },
  {
   "cell_type": "code",
   "execution_count": 4,
   "metadata": {},
   "outputs": [],
   "source": [
    "speech = \"\"\"\n",
    "People across the country, involved in government, political, and social activities, are dedicating their time to make the ‘Viksit Bharat Sankalp Yatra’ (Developed India Resolution Journey) successful. Therefore, as a Member of Parliament, it was my responsibility to also contribute my time to this program. So, today, I have come here just as a Member of Parliament and your ‘sevak’, ready to participate in this program, much like you.\n",
    "\n",
    "In our country, governments have come and gone, numerous schemes have been formulated, discussions have taken place, and big promises have been made. However, my experience and observations led me to believe that the most critical aspect that requires attention is ensuring that the government’s plans reach the intended beneficiaries without any hassles. If there is a ‘Pradhan Mantri Awas Yojana’ (Prime Minister’s housing scheme), then those who are living in jhuggis and slums should get their houses. And he should not need to make rounds of the government offices for this purpose. The government should reach him. Since you have assigned this responsibility to me, about four crore families have got their ‘pucca’ houses. However, I have encountered cases where someone is left out of the government benefits. Therefore, I have decided to tour the country again, to listen to people’s experiences with government schemes, to understand whether they received the intended benefits, and to ensure that the programs are reaching everyone as planned without paying any bribes. We will get the real picture if we visit them again. Therefore, this ‘Viksit Bharat Sankalp Yatra’ is, in a way, my own examination. I want to hear from you and the people across the country whether what I envisioned and the work I have been doing aligns with reality and whether it has reached those for whom it was meant.\n",
    "\n",
    "It is crucial to check whether the work that was supposed to happen has indeed taken place. I recently met some individuals who utilized the Ayushman card to get treatment for serious illnesses. One person met with a severe accident, and after using the card, he could afford the necessary operation, and now he is recovering well. When I asked him, he said: “How could I afford this treatment? Now that there is the Ayushman card, I mustered courage and underwent an operation. Now I am perfectly fine.”  Such stories are blessings to me.\n",
    "\n",
    "The bureaucrats, who prepare good schemes, expedite the paperwork and even allocate funds, also feel satisfied that 50 or 100 people who were supposed to get the funds have got it. The funds meant for a thousand villages have been released. But their job satisfaction peaks when they hear that their work has directly impacted someone’s life positively. When they see the tangible results of their efforts, their enthusiasm multiplies. They feel satisfied. Therefore, ‘Viksit Bharat Sankalp Yatra’ has had a positive impact on government officers. It has made them more enthusiastic about their work, especially when they witness the tangible benefits reaching the people. Officers now feel satisfied with their work, saying, “I made a good plan, I created a file, and the intended beneficiaries received the benefits.” When they find that the money has reached a poor widow under the Jeevan Jyoti scheme and it was a great help to her during her crisis, they realise that they have done a good job. When a government officer listens to such stories, he feels very satisfied.\n",
    "\n",
    "There are very few who understand the power and impact of the ‘Viksit Bharat Sankalp Yatra’. When I hear people connected to bureaucratic circles talking about it, expressing their satisfaction, it resonates with me. I’ve heard stories where someone suddenly received 2 lakh rupees after the death of her husband, and a sister mentioned how the arrival of gas in her home transformed her lives. The most significant aspect is when someone says that the line between rich and poor has vanished. While the slogan ‘Garibi Hatao’ (Remove Poverty) is one thing, but the real change happens when a person says, “As soon as the gas stove came to my house, the distinction between poverty and affluence disappeared.\n",
    "\"\"\""
   ]
  },
  {
   "cell_type": "code",
   "execution_count": 5,
   "metadata": {},
   "outputs": [],
   "source": [
    "chat_messages = [\n",
    "    SystemMessage(content='You are an expert assistant with expertise in summarizing speeches'),\n",
    "    HumanMessage(content=f'Please provide a short and concise summary of the following speech:\\n TEXT:{speech}')\n",
    "]\n",
    "\n",
    "# llm = ChatOpenAI(model_name = 'gpt-3.5-turbo', verbose=False)\n"
   ]
  },
  {
   "cell_type": "code",
   "execution_count": 6,
   "metadata": {},
   "outputs": [
    {
     "name": "stderr",
     "output_type": "stream",
     "text": [
      "/Users/pranayrajsarap/Machine Learning and Deep Learning Projects/LangChain series/Text Summarization techniques using Langchain/venv/lib/python3.10/site-packages/langchain_core/_api/deprecation.py:139: LangChainDeprecationWarning: The method `BaseChatModel.__call__` was deprecated in langchain-core 0.1.7 and will be removed in 0.3.0. Use invoke instead.\n",
      "  warn_deprecated(\n"
     ]
    },
    {
     "data": {
      "text/plain": [
       "\"In the speech, the Member of Parliament discusses their involvement in the 'Viksit Bharat Sankalp Yatra' and the importance of ensuring government programs reach intended beneficiaries smoothly. They highlight the impact of schemes like the 'Pradhan Mantri Awas Yojana' and Ayushman card, sharing stories of individuals benefiting from these initiatives. The speech emphasizes the need for tangible results and satisfaction among government officers when they see their efforts positively impacting people's lives. The Yatra is seen as a means to evaluate the effectiveness of government schemes and ensure they reach those in need without any obstacles.\""
      ]
     },
     "execution_count": 6,
     "metadata": {},
     "output_type": "execute_result"
    }
   ],
   "source": [
    "llm = ChatOpenAI(model_name='gpt-3.5-turbo')\n",
    "\n",
    "llm(chat_messages).content\n",
    "\n",
    "# # Generate response using the ChatOpenAI instance\n",
    "# try:\n",
    "#     response = llm(chat_messages)\n",
    "#     print(response)\n",
    "# except AttributeError as e:\n",
    "#     print(f\"An error occurred: {e}\")\n",
    "# # llm(chat_messages)"
   ]
  },
  {
   "cell_type": "code",
   "execution_count": 7,
   "metadata": {},
   "outputs": [
    {
     "name": "stdout",
     "output_type": "stream",
     "text": [
      "The speech emphasizes the importance of ensuring that government schemes reach their intended beneficiaries without any hurdles. The speaker, a Member of Parliament, shares his experiences of overseeing the distribution of houses and healthcare benefits to those in need. He highlights the satisfaction felt by bureaucrats when they see the tangible impact of their work on people's lives. The 'Viksit Bharat Sankalp Yatra' is portrayed as a journey to assess the effectiveness of government programs and ensure they are reaching those they are meant for. The speech underscores the significance of bridging the gap between the rich and the poor through successful implementation of welfare schemes.\n"
     ]
    }
   ],
   "source": [
    "print(llm(chat_messages).content)"
   ]
  },
  {
   "cell_type": "markdown",
   "metadata": {},
   "source": [
    "## Prompt Templates Text Summarization"
   ]
  },
  {
   "cell_type": "code",
   "execution_count": 8,
   "metadata": {},
   "outputs": [],
   "source": [
    "from langchain.chains import LLMChain\n",
    "from langchain import PromptTemplate"
   ]
  },
  {
   "cell_type": "code",
   "execution_count": 9,
   "metadata": {},
   "outputs": [],
   "source": [
    "generic_template = '''\n",
    "Write a summary of the following speech:\n",
    "Speech : `{speech}`\n",
    "Translate the precise summary to {language}.\n",
    "\n",
    "'''\n",
    "\n",
    "prompt = PromptTemplate(\n",
    "    input_variables = ['speech','language'],\n",
    "    template = generic_template\n",
    ")"
   ]
  },
  {
   "cell_type": "code",
   "execution_count": 10,
   "metadata": {},
   "outputs": [],
   "source": [
    "complete_prompt = prompt.format(speech=speech, language = 'Hindi')"
   ]
  },
  {
   "cell_type": "code",
   "execution_count": 11,
   "metadata": {},
   "outputs": [
    {
     "data": {
      "text/plain": [
       "885"
      ]
     },
     "execution_count": 11,
     "metadata": {},
     "output_type": "execute_result"
    }
   ],
   "source": [
    "llm.get_num_tokens(complete_prompt)"
   ]
  },
  {
   "cell_type": "code",
   "execution_count": 12,
   "metadata": {},
   "outputs": [
    {
     "name": "stderr",
     "output_type": "stream",
     "text": [
      "/Users/pranayrajsarap/Machine Learning and Deep Learning Projects/LangChain series/Text Summarization techniques using Langchain/venv/lib/python3.10/site-packages/langchain_core/_api/deprecation.py:139: LangChainDeprecationWarning: The class `LLMChain` was deprecated in LangChain 0.1.17 and will be removed in 0.3.0. Use RunnableSequence, e.g., `prompt | llm` instead.\n",
      "  warn_deprecated(\n"
     ]
    }
   ],
   "source": [
    "llm_chain = LLMChain(llm=llm,prompt=prompt)\n",
    "summary = llm_chain.invoke({'speech':speech,'language':'hindi'})"
   ]
  },
  {
   "cell_type": "code",
   "execution_count": 13,
   "metadata": {},
   "outputs": [
    {
     "data": {
      "text/plain": [
       "{'speech': '\\nPeople across the country, involved in government, political, and social activities, are dedicating their time to make the ‘Viksit Bharat Sankalp Yatra’ (Developed India Resolution Journey) successful. Therefore, as a Member of Parliament, it was my responsibility to also contribute my time to this program. So, today, I have come here just as a Member of Parliament and your ‘sevak’, ready to participate in this program, much like you.\\n\\nIn our country, governments have come and gone, numerous schemes have been formulated, discussions have taken place, and big promises have been made. However, my experience and observations led me to believe that the most critical aspect that requires attention is ensuring that the government’s plans reach the intended beneficiaries without any hassles. If there is a ‘Pradhan Mantri Awas Yojana’ (Prime Minister’s housing scheme), then those who are living in jhuggis and slums should get their houses. And he should not need to make rounds of the government offices for this purpose. The government should reach him. Since you have assigned this responsibility to me, about four crore families have got their ‘pucca’ houses. However, I have encountered cases where someone is left out of the government benefits. Therefore, I have decided to tour the country again, to listen to people’s experiences with government schemes, to understand whether they received the intended benefits, and to ensure that the programs are reaching everyone as planned without paying any bribes. We will get the real picture if we visit them again. Therefore, this ‘Viksit Bharat Sankalp Yatra’ is, in a way, my own examination. I want to hear from you and the people across the country whether what I envisioned and the work I have been doing aligns with reality and whether it has reached those for whom it was meant.\\n\\nIt is crucial to check whether the work that was supposed to happen has indeed taken place. I recently met some individuals who utilized the Ayushman card to get treatment for serious illnesses. One person met with a severe accident, and after using the card, he could afford the necessary operation, and now he is recovering well. When I asked him, he said: “How could I afford this treatment? Now that there is the Ayushman card, I mustered courage and underwent an operation. Now I am perfectly fine.”  Such stories are blessings to me.\\n\\nThe bureaucrats, who prepare good schemes, expedite the paperwork and even allocate funds, also feel satisfied that 50 or 100 people who were supposed to get the funds have got it. The funds meant for a thousand villages have been released. But their job satisfaction peaks when they hear that their work has directly impacted someone’s life positively. When they see the tangible results of their efforts, their enthusiasm multiplies. They feel satisfied. Therefore, ‘Viksit Bharat Sankalp Yatra’ has had a positive impact on government officers. It has made them more enthusiastic about their work, especially when they witness the tangible benefits reaching the people. Officers now feel satisfied with their work, saying, “I made a good plan, I created a file, and the intended beneficiaries received the benefits.” When they find that the money has reached a poor widow under the Jeevan Jyoti scheme and it was a great help to her during her crisis, they realise that they have done a good job. When a government officer listens to such stories, he feels very satisfied.\\n\\nThere are very few who understand the power and impact of the ‘Viksit Bharat Sankalp Yatra’. When I hear people connected to bureaucratic circles talking about it, expressing their satisfaction, it resonates with me. I’ve heard stories where someone suddenly received 2 lakh rupees after the death of her husband, and a sister mentioned how the arrival of gas in her home transformed her lives. The most significant aspect is when someone says that the line between rich and poor has vanished. While the slogan ‘Garibi Hatao’ (Remove Poverty) is one thing, but the real change happens when a person says, “As soon as the gas stove came to my house, the distinction between poverty and affluence disappeared.\\n',\n",
       " 'language': 'hindi',\n",
       " 'text': 'यह भाषण विकसित भारत संकल्प यात्रा को सफल बनाने के लिए अपना समय और योगदान देने वाले लोगों के बारे में है। संसद के सदस्य के रूप में, भारतीय जनता पार्टी के सदस्य ने भी इस कार्यक्रम में अपना समय देने का निर्णय लिया है। उन्होंने कहा कि सरकारी योजनाओं को असली लाभार्थियों तक पहुंचाना महत्वपूर्ण है और इसलिए वह देशवासियों के साथ इस कार्यक्रम में भाग लेने के लिए तैयार हैं। उन्होंने अपने देश के लोगों से सुनने का आग्रह किया है कि क्या उन्हें सरकारी योजनाओं का वास्तविक लाभ मिला है और क्या वे उसे सही तरीके से पहुंचा रहे हैं। उन्होंने कहा कि यह भारत संकल्प यात्रा उनकी खुद की जांच है और उन्हें जानना है कि उनका काम वास्तविकता के साथ मेल खाता है या नहीं।\\n\\nवे अपनी यात्रा में लोगों से मिलेंगे, सुनेंगे और समझेंगे कि क्या सरकारी योजनाएं उन लोगों तक पहुंच रही हैं जिनके लिए वे बनाई गई हैं। यह यात्रा सरकारी अधिकारियों पर भी अच्छा प्रभाव डालने में सफल रही है। जब वे अपने प्रयासों के वास्तविक परिणाम देखते हैं, तो उनकी उत्साहिता और भी बढ़ जाती है। इस यात्रा से अधिकारी अपने काम से संतुष्ट महसूस कर रहे हैं और उन्हें लगता है कि उन्होंने एक अच्छा काम किया है।'}"
      ]
     },
     "execution_count": 13,
     "metadata": {},
     "output_type": "execute_result"
    }
   ],
   "source": [
    "summary"
   ]
  },
  {
   "cell_type": "markdown",
   "metadata": {},
   "source": [
    "## StuffDocumentChain Text Summarization"
   ]
  },
  {
   "cell_type": "code",
   "execution_count": 14,
   "metadata": {},
   "outputs": [
    {
     "name": "stdout",
     "output_type": "stream",
     "text": [
      "Requirement already satisfied: PyPDF2 in ./venv/lib/python3.10/site-packages (3.0.1)\n",
      "Note: you may need to restart the kernel to use updated packages.\n"
     ]
    }
   ],
   "source": [
    "pip install PyPDF2"
   ]
  },
  {
   "cell_type": "code",
   "execution_count": 15,
   "metadata": {},
   "outputs": [],
   "source": [
    "from PyPDF2 import PdfReader"
   ]
  },
  {
   "cell_type": "code",
   "execution_count": 18,
   "metadata": {},
   "outputs": [],
   "source": [
    "pdfreader = PdfReader('speech.pdf')"
   ]
  },
  {
   "cell_type": "code",
   "execution_count": 19,
   "metadata": {},
   "outputs": [],
   "source": [
    "from typing_extensions import Concatenate\n",
    "# read text from pdf \n",
    "text = ''\n",
    "for i, page in enumerate(pdfreader.pages):\n",
    "    content = page.extract_text()\n",
    "    if content:\n",
    "        text += content"
   ]
  },
  {
   "cell_type": "code",
   "execution_count": 20,
   "metadata": {},
   "outputs": [
    {
     "data": {
      "text/plain": [
       "'People across the country, involved in government, political, and social activities, are \\ndedicating their time to make the ‘Viksit  Bharat Sankalp Yatra’ (Developed India Resolution \\nJourney) successful. Therefore, as a Member of Parliament, it was my responsibility to also \\ncontribute my time to this program. So, today, I have come here just as a Member of \\nParliament and your ‘sevak’, ready to participate in this program, much like you.  \\n \\nIn our country, governments have come and gone, numerous schemes have been \\nformulated, discussions have taken place, and big promises have been made. However, my \\nexperience and observations led me to believe that the most critical aspect that requires \\nattention is ensuring that the government’s plans reach the intended beneficiaries without \\nany hassles. If there is a ‘Pradhan Mantri Awas Yojana’ (Prime Minister’s housing scheme), \\nthen those who are living in jhuggis and slums should get their houses. And he  should not \\nneed to make rounds of the government offices for this purpose. The government should \\nreach him. Since you have assigned this responsibility to me, about four crore families have \\ngot their ‘pucca’ houses. However, I have encountered cases where  someone is left out of \\nthe government benefits. Therefore, I have decided to tour the country again, to listen to \\npeople’s experiences with government schemes, to understand whether they received the \\nintended benefits, and to ensure that the programs are reaching everyone as planned \\nwithout paying any bribes. We will get the real picture if we visit them again. Therefore, this \\n‘Viksit Bharat Sankalp Yatra’ is, in a way, my own examination. I want to hear from you and \\nthe people across the country whether w hat I envisioned and the work I have been doing \\naligns with reality and whether it has reached those for whom it was meant.  \\n \\nIt is crucial to check whether the work that was supposed to happen has indeed taken \\nplace. I recently met some individuals who utilized the Ayushman card to get treatment for \\nserious illnesses. One person met with a severe accident, and after using the ca rd, he \\ncould afford the necessary operation, and now he is recovering well. When I asked him, he \\nsaid: “How could I afford this treatment? Now that there is the Ayushman card, I mustered \\ncourage and underwent an operation. Now I am perfectly fine.”  Such s tories are blessings \\nto me.  \\n \\nThe bureaucrats, who prepare good schemes, expedite the paperwork and even allocate \\nfunds, also feel satisfied that 50 or 100 people who were supposed to get the funds have \\ngot it. The funds meant for a thousand villages have been released. But their job \\nsatisfaction peaks when they hear that their work has directly impacted someone’s life \\npositively. When they see the tangible results of their efforts, their enthusiasm multiplies. \\nThey feel satisfied. Therefore, ‘Viksit Bharat Sankalp Yatra’ has had a posi tive impact on \\ngovernment officers. It has made them more enthusiastic about their work, especially \\nwhen they witness the tangible benefits reaching the people. Officers now feel satisfied \\nwith their work, saying, “I made a good plan, I created a file, and  the intended beneficiaries \\nreceived the benefits.” When they find that the money has reached a poor widow under the \\nJeevan Jyoti scheme and it was a great help to her during her crisis, they realise that they \\nhave done a good job. When a government office r listens to such stories, he feels very \\nsatisfied.   \\nThere are very few who understand the power and impact of the ‘Viksit Bharat Sankalp \\nYatra’. When I hear people connected to bureaucratic circles talking about it, expressing \\ntheir satisfaction, it resonates with me. I’ve heard stories where someone sudden ly \\nreceived 2 lakh rupees after the death of her husband, and a sister mentioned how the \\narrival of gas in her home transformed her lives. The most significant aspect is when \\nsomeone says that the line between rich and poor has vanished. While the slogan ‘ Garibi \\nHatao’ (Remove Poverty) is one thing, but the real change happens when a person says, “As \\nsoon as the gas stove came to my house, the distinction between poverty and affluence \\ndisappeared.  \\n '"
      ]
     },
     "execution_count": 20,
     "metadata": {},
     "output_type": "execute_result"
    }
   ],
   "source": [
    "text"
   ]
  },
  {
   "cell_type": "code",
   "execution_count": 22,
   "metadata": {},
   "outputs": [],
   "source": [
    "from langchain import PromptTemplate\n",
    "from langchain_openai import ChatOpenAI\n",
    "from langchain.chains.summarize import load_summarize_chain\n",
    "from langchain.docstore.document import Document"
   ]
  },
  {
   "cell_type": "code",
   "execution_count": 23,
   "metadata": {},
   "outputs": [
    {
     "data": {
      "text/plain": [
       "[Document(page_content='People across the country, involved in government, political, and social activities, are \\ndedicating their time to make the ‘Viksit  Bharat Sankalp Yatra’ (Developed India Resolution \\nJourney) successful. Therefore, as a Member of Parliament, it was my responsibility to also \\ncontribute my time to this program. So, today, I have come here just as a Member of \\nParliament and your ‘sevak’, ready to participate in this program, much like you.  \\n \\nIn our country, governments have come and gone, numerous schemes have been \\nformulated, discussions have taken place, and big promises have been made. However, my \\nexperience and observations led me to believe that the most critical aspect that requires \\nattention is ensuring that the government’s plans reach the intended beneficiaries without \\nany hassles. If there is a ‘Pradhan Mantri Awas Yojana’ (Prime Minister’s housing scheme), \\nthen those who are living in jhuggis and slums should get their houses. And he  should not \\nneed to make rounds of the government offices for this purpose. The government should \\nreach him. Since you have assigned this responsibility to me, about four crore families have \\ngot their ‘pucca’ houses. However, I have encountered cases where  someone is left out of \\nthe government benefits. Therefore, I have decided to tour the country again, to listen to \\npeople’s experiences with government schemes, to understand whether they received the \\nintended benefits, and to ensure that the programs are reaching everyone as planned \\nwithout paying any bribes. We will get the real picture if we visit them again. Therefore, this \\n‘Viksit Bharat Sankalp Yatra’ is, in a way, my own examination. I want to hear from you and \\nthe people across the country whether w hat I envisioned and the work I have been doing \\naligns with reality and whether it has reached those for whom it was meant.  \\n \\nIt is crucial to check whether the work that was supposed to happen has indeed taken \\nplace. I recently met some individuals who utilized the Ayushman card to get treatment for \\nserious illnesses. One person met with a severe accident, and after using the ca rd, he \\ncould afford the necessary operation, and now he is recovering well. When I asked him, he \\nsaid: “How could I afford this treatment? Now that there is the Ayushman card, I mustered \\ncourage and underwent an operation. Now I am perfectly fine.”  Such s tories are blessings \\nto me.  \\n \\nThe bureaucrats, who prepare good schemes, expedite the paperwork and even allocate \\nfunds, also feel satisfied that 50 or 100 people who were supposed to get the funds have \\ngot it. The funds meant for a thousand villages have been released. But their job \\nsatisfaction peaks when they hear that their work has directly impacted someone’s life \\npositively. When they see the tangible results of their efforts, their enthusiasm multiplies. \\nThey feel satisfied. Therefore, ‘Viksit Bharat Sankalp Yatra’ has had a posi tive impact on \\ngovernment officers. It has made them more enthusiastic about their work, especially \\nwhen they witness the tangible benefits reaching the people. Officers now feel satisfied \\nwith their work, saying, “I made a good plan, I created a file, and  the intended beneficiaries \\nreceived the benefits.” When they find that the money has reached a poor widow under the \\nJeevan Jyoti scheme and it was a great help to her during her crisis, they realise that they \\nhave done a good job. When a government office r listens to such stories, he feels very \\nsatisfied.   \\nThere are very few who understand the power and impact of the ‘Viksit Bharat Sankalp \\nYatra’. When I hear people connected to bureaucratic circles talking about it, expressing \\ntheir satisfaction, it resonates with me. I’ve heard stories where someone sudden ly \\nreceived 2 lakh rupees after the death of her husband, and a sister mentioned how the \\narrival of gas in her home transformed her lives. The most significant aspect is when \\nsomeone says that the line between rich and poor has vanished. While the slogan ‘ Garibi \\nHatao’ (Remove Poverty) is one thing, but the real change happens when a person says, “As \\nsoon as the gas stove came to my house, the distinction between poverty and affluence \\ndisappeared.  \\n ')]"
      ]
     },
     "execution_count": 23,
     "metadata": {},
     "output_type": "execute_result"
    }
   ],
   "source": [
    "docs = [Document(page_content=text)]\n",
    "docs"
   ]
  },
  {
   "cell_type": "code",
   "execution_count": 24,
   "metadata": {},
   "outputs": [],
   "source": [
    "llm = ChatOpenAI(temperature=0,model_name = 'gpt-3.5-turbo')"
   ]
  },
  {
   "cell_type": "code",
   "execution_count": 25,
   "metadata": {},
   "outputs": [],
   "source": [
    "template = '''Write a concise and short summary of the following speech. \n",
    "Speech: `{text}`\n",
    "'''\n",
    "\n",
    "prompt = PromptTemplate(\n",
    "    input_variables = ['text'],\n",
    "    template=template\n",
    ")"
   ]
  },
  {
   "cell_type": "code",
   "execution_count": 27,
   "metadata": {},
   "outputs": [
    {
     "name": "stderr",
     "output_type": "stream",
     "text": [
      "/Users/pranayrajsarap/Machine Learning and Deep Learning Projects/LangChain series/Text Summarization techniques using Langchain/venv/lib/python3.10/site-packages/langchain_core/_api/deprecation.py:139: LangChainDeprecationWarning: The method `Chain.run` was deprecated in langchain 0.1.0 and will be removed in 0.3.0. Use invoke instead.\n",
      "  warn_deprecated(\n"
     ]
    }
   ],
   "source": [
    "chain = load_summarize_chain(\n",
    "    llm,\n",
    "    chain_type='stuff',\n",
    "    prompt=prompt,\n",
    "    verbose=False\n",
    ")\n",
    "\n",
    "output_summary = chain.run(docs)"
   ]
  },
  {
   "cell_type": "code",
   "execution_count": 30,
   "metadata": {},
   "outputs": [
    {
     "data": {
      "text/plain": [
       "\"The speech highlights the importance of ensuring government schemes reach the intended beneficiaries without any hassles. The speaker, a Member of Parliament, discusses their involvement in the 'Viksit Bharat Sankalp Yatra' to assess the impact of government programs on people's lives. The speech emphasizes the positive impact of the Yatra on government officers and the satisfaction they feel when they see tangible benefits reaching the people. The speaker shares stories of individuals benefiting from government schemes, highlighting the importance of ensuring that the work that was supposed to happen has indeed taken place.\""
      ]
     },
     "execution_count": 30,
     "metadata": {},
     "output_type": "execute_result"
    }
   ],
   "source": [
    "output_summary"
   ]
  },
  {
   "cell_type": "markdown",
   "metadata": {},
   "source": [
    "## Summarize Large Documents Using Map Reduce"
   ]
  },
  {
   "cell_type": "code",
   "execution_count": 31,
   "metadata": {},
   "outputs": [],
   "source": [
    "from langchain import PromptTemplate\n",
    "from langchain_openai import ChatOpenAI\n",
    "from langchain.chains.summarize import load_summarize_chain\n",
    "from langchain.text_splitter import RecursiveCharacterTextSplitter"
   ]
  },
  {
   "cell_type": "code",
   "execution_count": 40,
   "metadata": {},
   "outputs": [],
   "source": [
    "pdfreader = PdfReader('speech.pdf')\n",
    "from typing_extensions import Concatenate\n",
    "text = ''\n",
    "\n",
    "for i,page in enumerate(pdfreader.pages):\n",
    "    content = page.extract_text()\n",
    "    if content:\n",
    "        text += content\n",
    "\n"
   ]
  },
  {
   "cell_type": "code",
   "execution_count": 33,
   "metadata": {},
   "outputs": [],
   "source": [
    "llm = ChatOpenAI(temperature=0, model_name = 'gpt-3.5-turbo')"
   ]
  },
  {
   "cell_type": "code",
   "execution_count": 34,
   "metadata": {},
   "outputs": [
    {
     "data": {
      "text/plain": [
       "943"
      ]
     },
     "execution_count": 34,
     "metadata": {},
     "output_type": "execute_result"
    }
   ],
   "source": [
    "llm.get_num_tokens(text)"
   ]
  },
  {
   "cell_type": "code",
   "execution_count": 36,
   "metadata": {},
   "outputs": [],
   "source": [
    "text_splitter = RecursiveCharacterTextSplitter(chunk_size = 10000, chunk_overlap = 20)\n",
    "chunks = text_splitter.create_documents([text])"
   ]
  },
  {
   "cell_type": "code",
   "execution_count": null,
   "metadata": {},
   "outputs": [],
   "source": []
  },
  {
   "cell_type": "code",
   "execution_count": 37,
   "metadata": {},
   "outputs": [
    {
     "data": {
      "text/plain": [
       "[Document(page_content='People across the country, involved in government, political, and social activities, are \\ndedicating their time to make the ‘Viksit  Bharat Sankalp Yatra’ (Developed India Resolution \\nJourney) successful. Therefore, as a Member of Parliament, it was my responsibility to also \\ncontribute my time to this program. So, today, I have come here just as a Member of \\nParliament and your ‘sevak’, ready to participate in this program, much like you.  \\n \\nIn our country, governments have come and gone, numerous schemes have been \\nformulated, discussions have taken place, and big promises have been made. However, my \\nexperience and observations led me to believe that the most critical aspect that requires \\nattention is ensuring that the government’s plans reach the intended beneficiaries without \\nany hassles. If there is a ‘Pradhan Mantri Awas Yojana’ (Prime Minister’s housing scheme), \\nthen those who are living in jhuggis and slums should get their houses. And he  should not \\nneed to make rounds of the government offices for this purpose. The government should \\nreach him. Since you have assigned this responsibility to me, about four crore families have \\ngot their ‘pucca’ houses. However, I have encountered cases where  someone is left out of \\nthe government benefits. Therefore, I have decided to tour the country again, to listen to \\npeople’s experiences with government schemes, to understand whether they received the \\nintended benefits, and to ensure that the programs are reaching everyone as planned \\nwithout paying any bribes. We will get the real picture if we visit them again. Therefore, this \\n‘Viksit Bharat Sankalp Yatra’ is, in a way, my own examination. I want to hear from you and \\nthe people across the country whether w hat I envisioned and the work I have been doing \\naligns with reality and whether it has reached those for whom it was meant.  \\n \\nIt is crucial to check whether the work that was supposed to happen has indeed taken \\nplace. I recently met some individuals who utilized the Ayushman card to get treatment for \\nserious illnesses. One person met with a severe accident, and after using the ca rd, he \\ncould afford the necessary operation, and now he is recovering well. When I asked him, he \\nsaid: “How could I afford this treatment? Now that there is the Ayushman card, I mustered \\ncourage and underwent an operation. Now I am perfectly fine.”  Such s tories are blessings \\nto me.  \\n \\nThe bureaucrats, who prepare good schemes, expedite the paperwork and even allocate \\nfunds, also feel satisfied that 50 or 100 people who were supposed to get the funds have \\ngot it. The funds meant for a thousand villages have been released. But their job \\nsatisfaction peaks when they hear that their work has directly impacted someone’s life \\npositively. When they see the tangible results of their efforts, their enthusiasm multiplies. \\nThey feel satisfied. Therefore, ‘Viksit Bharat Sankalp Yatra’ has had a posi tive impact on \\ngovernment officers. It has made them more enthusiastic about their work, especially \\nwhen they witness the tangible benefits reaching the people. Officers now feel satisfied \\nwith their work, saying, “I made a good plan, I created a file, and  the intended beneficiaries \\nreceived the benefits.” When they find that the money has reached a poor widow under the \\nJeevan Jyoti scheme and it was a great help to her during her crisis, they realise that they \\nhave done a good job. When a government office r listens to such stories, he feels very \\nsatisfied.   \\nThere are very few who understand the power and impact of the ‘Viksit Bharat Sankalp \\nYatra’. When I hear people connected to bureaucratic circles talking about it, expressing \\ntheir satisfaction, it resonates with me. I’ve heard stories where someone sudden ly \\nreceived 2 lakh rupees after the death of her husband, and a sister mentioned how the \\narrival of gas in her home transformed her lives. The most significant aspect is when \\nsomeone says that the line between rich and poor has vanished. While the slogan ‘ Garibi \\nHatao’ (Remove Poverty) is one thing, but the real change happens when a person says, “As \\nsoon as the gas stove came to my house, the distinction between poverty and affluence \\ndisappeared.')]"
      ]
     },
     "execution_count": 37,
     "metadata": {},
     "output_type": "execute_result"
    }
   ],
   "source": [
    "chunks"
   ]
  },
  {
   "cell_type": "code",
   "execution_count": 38,
   "metadata": {},
   "outputs": [],
   "source": [
    "chain = load_summarize_chain(\n",
    "    llm,\n",
    "    chain_type='map_reduce',\n",
    "    verbose=False\n",
    ")\n",
    "\n",
    "summary = chain.run(chunks)"
   ]
  },
  {
   "cell_type": "code",
   "execution_count": 39,
   "metadata": {},
   "outputs": [
    {
     "data": {
      "text/plain": [
       "\"A Member of Parliament is participating in the 'Viksit Bharat Sankalp Yatra' to ensure government schemes reach intended beneficiaries smoothly. Positive impacts include individuals receiving necessary medical treatment, bureaucrats feeling satisfied, government officers becoming more enthusiastic, and tangible benefits bridging the gap between rich and poor.\""
      ]
     },
     "execution_count": 39,
     "metadata": {},
     "output_type": "execute_result"
    }
   ],
   "source": [
    "summary"
   ]
  },
  {
   "cell_type": "markdown",
   "metadata": {},
   "source": [
    "## Map Reduce With Custom Prompts"
   ]
  },
  {
   "cell_type": "code",
   "execution_count": 41,
   "metadata": {},
   "outputs": [],
   "source": [
    "chunks_prompt = \"\"\"\n",
    "Please summarize the below speech:\n",
    "Speech:`{text}`\n",
    "Summary:\n",
    "\"\"\"\n",
    "\n",
    "map_prompt_template = PromptTemplate(input_variables=['text'],\n",
    "                                     template=chunks_prompt)"
   ]
  },
  {
   "cell_type": "code",
   "execution_count": 42,
   "metadata": {},
   "outputs": [],
   "source": [
    "final_combine_prompt = '''\n",
    "Provide a final summary of the entire speech with these important points.\n",
    "Add a Generic Motivational Title,\n",
    "Start the precise summary with an introduction and provide the summary\n",
    "in number points for the speech.\n",
    "Speech:`{text}`\n",
    "'''\n",
    "\n",
    "final_combine_prompt_template = PromptTemplate(input_variables=['text'],\n",
    "                                               template=final_combine_prompt)"
   ]
  },
  {
   "cell_type": "code",
   "execution_count": 43,
   "metadata": {},
   "outputs": [],
   "source": [
    "summary_chain = load_summarize_chain(\n",
    "    llm=llm,\n",
    "    chain_type='map_reduce',\n",
    "    map_prompt = map_prompt_template,\n",
    "    combine_prompt = final_combine_prompt_template,\n",
    "    verbose=False\n",
    ")\n",
    "\n",
    "output = summary_chain.run(chunks)"
   ]
  },
  {
   "cell_type": "code",
   "execution_count": 44,
   "metadata": {},
   "outputs": [
    {
     "data": {
      "text/plain": [
       "'Title: \"Empowering Communities: Bridging the Gap Through Government Schemes\"\\n\\nIntroduction:\\nIn a recent speech, a Member of Parliament shared their experiences from the \\'Viksit Bharat Sankalp Yatra\\' aimed at ensuring the effective implementation of government schemes for the benefit of the people.\\n\\nSummary:\\n1. The speaker, along with their team, has helped four crore families in getting pucca houses, and they are now traveling across the country to hear people\\'s experiences with government schemes.\\n2. Tangible results and positive impacts on people\\'s lives are essential for government officers to feel satisfied with their work.\\n3. The Yatra has boosted the morale of government officers, who feel enthusiastic when they witness the benefits of the schemes reaching the intended beneficiaries.\\n4. Stories of individuals benefiting from schemes like the Ayushman card and Jeevan Jyoti scheme were shared to emphasize the importance of these initiatives.\\n5. The speaker stressed the significance of bridging the gap between the rich and poor through the effective implementation of government schemes, ultimately empowering communities and fostering inclusive growth.'"
      ]
     },
     "execution_count": 44,
     "metadata": {},
     "output_type": "execute_result"
    }
   ],
   "source": [
    "output"
   ]
  },
  {
   "cell_type": "code",
   "execution_count": 45,
   "metadata": {},
   "outputs": [
    {
     "name": "stdout",
     "output_type": "stream",
     "text": [
      "\n",
      "\n",
      "\u001b[1m> Entering new RefineDocumentsChain chain...\u001b[0m\n",
      "\n",
      "\n",
      "\u001b[1m> Entering new LLMChain chain...\u001b[0m\n",
      "Prompt after formatting:\n",
      "\u001b[32;1m\u001b[1;3mWrite a concise summary of the following:\n",
      "\n",
      "\n",
      "\"People across the country, involved in government, political, and social activities, are \n",
      "dedicating their time to make the ‘Viksit  Bharat Sankalp Yatra’ (Developed India Resolution \n",
      "Journey) successful. Therefore, as a Member of Parliament, it was my responsibility to also \n",
      "contribute my time to this program. So, today, I have come here just as a Member of \n",
      "Parliament and your ‘sevak’, ready to participate in this program, much like you.  \n",
      " \n",
      "In our country, governments have come and gone, numerous schemes have been \n",
      "formulated, discussions have taken place, and big promises have been made. However, my \n",
      "experience and observations led me to believe that the most critical aspect that requires \n",
      "attention is ensuring that the government’s plans reach the intended beneficiaries without \n",
      "any hassles. If there is a ‘Pradhan Mantri Awas Yojana’ (Prime Minister’s housing scheme), \n",
      "then those who are living in jhuggis and slums should get their houses. And he  should not \n",
      "need to make rounds of the government offices for this purpose. The government should \n",
      "reach him. Since you have assigned this responsibility to me, about four crore families have \n",
      "got their ‘pucca’ houses. However, I have encountered cases where  someone is left out of \n",
      "the government benefits. Therefore, I have decided to tour the country again, to listen to \n",
      "people’s experiences with government schemes, to understand whether they received the \n",
      "intended benefits, and to ensure that the programs are reaching everyone as planned \n",
      "without paying any bribes. We will get the real picture if we visit them again. Therefore, this \n",
      "‘Viksit Bharat Sankalp Yatra’ is, in a way, my own examination. I want to hear from you and \n",
      "the people across the country whether w hat I envisioned and the work I have been doing \n",
      "aligns with reality and whether it has reached those for whom it was meant.  \n",
      " \n",
      "It is crucial to check whether the work that was supposed to happen has indeed taken \n",
      "place. I recently met some individuals who utilized the Ayushman card to get treatment for \n",
      "serious illnesses. One person met with a severe accident, and after using the ca rd, he \n",
      "could afford the necessary operation, and now he is recovering well. When I asked him, he \n",
      "said: “How could I afford this treatment? Now that there is the Ayushman card, I mustered \n",
      "courage and underwent an operation. Now I am perfectly fine.”  Such s tories are blessings \n",
      "to me.  \n",
      " \n",
      "The bureaucrats, who prepare good schemes, expedite the paperwork and even allocate \n",
      "funds, also feel satisfied that 50 or 100 people who were supposed to get the funds have \n",
      "got it. The funds meant for a thousand villages have been released. But their job \n",
      "satisfaction peaks when they hear that their work has directly impacted someone’s life \n",
      "positively. When they see the tangible results of their efforts, their enthusiasm multiplies. \n",
      "They feel satisfied. Therefore, ‘Viksit Bharat Sankalp Yatra’ has had a posi tive impact on \n",
      "government officers. It has made them more enthusiastic about their work, especially \n",
      "when they witness the tangible benefits reaching the people. Officers now feel satisfied \n",
      "with their work, saying, “I made a good plan, I created a file, and  the intended beneficiaries \n",
      "received the benefits.” When they find that the money has reached a poor widow under the \n",
      "Jeevan Jyoti scheme and it was a great help to her during her crisis, they realise that they \n",
      "have done a good job. When a government office r listens to such stories, he feels very \n",
      "satisfied.   \n",
      "There are very few who understand the power and impact of the ‘Viksit Bharat Sankalp \n",
      "Yatra’. When I hear people connected to bureaucratic circles talking about it, expressing \n",
      "their satisfaction, it resonates with me. I’ve heard stories where someone sudden ly \n",
      "received 2 lakh rupees after the death of her husband, and a sister mentioned how the \n",
      "arrival of gas in her home transformed her lives. The most significant aspect is when \n",
      "someone says that the line between rich and poor has vanished. While the slogan ‘ Garibi \n",
      "Hatao’ (Remove Poverty) is one thing, but the real change happens when a person says, “As \n",
      "soon as the gas stove came to my house, the distinction between poverty and affluence \n",
      "disappeared.\"\n",
      "\n",
      "\n",
      "CONCISE SUMMARY:\u001b[0m\n",
      "\n",
      "\u001b[1m> Finished chain.\u001b[0m\n",
      "\n",
      "\u001b[1m> Finished chain.\u001b[0m\n"
     ]
    }
   ],
   "source": [
    "chain = load_summarize_chain(\n",
    "    llm = llm,\n",
    "    chain_type='refine',\n",
    "    verbose=True\n",
    ")\n",
    "\n",
    "output_summary = chain.run(chunks)"
   ]
  },
  {
   "cell_type": "code",
   "execution_count": 46,
   "metadata": {},
   "outputs": [
    {
     "data": {
      "text/plain": [
       "\"The speaker, a Member of Parliament, is participating in the 'Viksit Bharat Sankalp Yatra' to ensure government schemes reach intended beneficiaries without hassle. They have seen positive impacts, such as individuals receiving necessary medical treatment and bureaucrats feeling satisfied when their work directly benefits people. The Yatra has made government officers more enthusiastic about their work and has helped bridge the gap between rich and poor through the implementation of various schemes.\""
      ]
     },
     "execution_count": 46,
     "metadata": {},
     "output_type": "execute_result"
    }
   ],
   "source": [
    "output_summary"
   ]
  },
  {
   "cell_type": "code",
   "execution_count": null,
   "metadata": {},
   "outputs": [],
   "source": []
  }
 ],
 "metadata": {
  "kernelspec": {
   "display_name": "Python 3",
   "language": "python",
   "name": "python3"
  },
  "language_info": {
   "codemirror_mode": {
    "name": "ipython",
    "version": 3
   },
   "file_extension": ".py",
   "mimetype": "text/x-python",
   "name": "python",
   "nbconvert_exporter": "python",
   "pygments_lexer": "ipython3",
   "version": "3.10.14"
  }
 },
 "nbformat": 4,
 "nbformat_minor": 2
}
